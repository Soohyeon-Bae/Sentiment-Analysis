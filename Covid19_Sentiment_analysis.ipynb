{
  "nbformat": 4,
  "nbformat_minor": 0,
  "metadata": {
    "colab": {
      "name": "Covid19_Sentiment_analysis.ipynb",
      "provenance": []
    },
    "kernelspec": {
      "name": "python3",
      "display_name": "Python 3"
    },
    "language_info": {
      "name": "python"
    },
    "accelerator": "GPU"
  },
  "cells": [
    {
      "cell_type": "markdown",
      "metadata": {
        "id": "gbZDKPcMpK2J"
      },
      "source": [
        "Covid 19 감정분석 팀 : 정주은 팀장, 양진욱 팀원, 배수현 팀원"
      ]
    },
    {
      "cell_type": "code",
      "metadata": {
        "id": "6TvXBW_fmmTP"
      },
      "source": [
        "# 모듈 가져오기 \n",
        "\n",
        "import pandas as pd\n",
        "import numpy as np\n",
        "import re       \n",
        "import nltk \n",
        "\n",
        "# 머신러닝 기법 활용 \n",
        "from sklearn.pipeline import Pipeline\n",
        "from sklearn.feature_extraction.text import CountVectorizer, TfidfVectorizer\n",
        "from sklearn.linear_model import LogisticRegression\n",
        "from sklearn.model_selection import train_test_split, cross_val_score, KFold\n",
        "\n",
        "\n",
        "from io import StringIO\n",
        "from sklearn.feature_extraction.text import TfidfVectorizer\n",
        "from sklearn.feature_selection import chi2\n",
        "from IPython.display import display\n",
        "from sklearn.model_selection import train_test_split\n",
        "from sklearn.feature_extraction.text import TfidfTransformer\n",
        "from sklearn.naive_bayes import MultinomialNB\n",
        "from sklearn.linear_model import LogisticRegression\n",
        "from sklearn.ensemble import RandomForestClassifier\n",
        "from sklearn.svm import LinearSVC\n",
        "from sklearn.model_selection import cross_val_score\n",
        "from sklearn.metrics import confusion_matrix\n",
        "from sklearn import metrics\n",
        "\n",
        "from sklearn.decomposition import PCA, TruncatedSVD\n",
        "from sklearn.metrics import classification_report,confusion_matrix\n",
        "import matplotlib.pyplot as plt\n",
        "%matplotlib inline\n",
        "import seaborn as sns\n",
        "plt.style.use('ggplot')\n",
        "import matplotlib.patches as mpatches"
      ],
      "execution_count": null,
      "outputs": []
    },
    {
      "cell_type": "code",
      "metadata": {
        "id": "R7Q_SEfKm4V6"
      },
      "source": [
        "# 딥러닝 기법 활용 모듈 가져오기 \n",
        "\n",
        "import pandas as pd\n",
        "import numpy as np\n",
        "import re\n",
        "from sklearn.model_selection import train_test_split\n",
        "\n",
        "\n",
        "import matplotlib.pyplot as plt\n",
        "from wordcloud import WordCloud\n",
        "import seaborn as sns \n",
        "\n",
        "\n",
        "from tensorflow.keras.layers import Dense, Input, LSTM, Embedding, Dropout\n",
        "from tensorflow.keras.preprocessing.sequence import pad_sequences\n",
        "from tensorflow.keras.preprocessing.text import Tokenizer\n",
        "from tensorflow.keras.layers import GlobalMaxPool1D\n",
        "from tensorflow.keras.utils import to_categorical\n",
        "from tensorflow.keras.models import Model\n",
        "\n",
        "\n",
        "from sklearn.metrics import classification_report\n",
        "\n",
        "\n",
        "import warnings\n",
        "import os\n",
        "for dirname, _, filenames in os.walk('/kaggle/input'):\n",
        "    for filename in filenames:\n",
        "        print(os.path.join(dirname, filename))\n",
        "\n",
        "warnings.filterwarnings('ignore')\n",
        "sns.set_style(\"darkgrid\")\n",
        "%matplotlib inline"
      ],
      "execution_count": null,
      "outputs": []
    },
    {
      "cell_type": "code",
      "metadata": {
        "colab": {
          "base_uri": "https://localhost:8080/"
        },
        "id": "3fJjIGlBm5NG",
        "outputId": "c208a1e4-be2a-456c-cf6c-9c2f3f0e9e02"
      },
      "source": [
        "from google.colab import drive \n",
        "\n",
        "drive.mount('/content/gdrive/')\n"
      ],
      "execution_count": null,
      "outputs": [
        {
          "output_type": "stream",
          "name": "stdout",
          "text": [
            "Drive already mounted at /content/gdrive/; to attempt to forcibly remount, call drive.mount(\"/content/gdrive/\", force_remount=True).\n"
          ]
        }
      ]
    },
    {
      "cell_type": "code",
      "metadata": {
        "colab": {
          "base_uri": "https://localhost:8080/",
          "height": 35
        },
        "id": "98ZhD5SKozTb",
        "outputId": "27168577-0476-48cb-d441-043443dcdbf2"
      },
      "source": [
        "pwd"
      ],
      "execution_count": null,
      "outputs": [
        {
          "output_type": "execute_result",
          "data": {
            "application/vnd.google.colaboratory.intrinsic+json": {
              "type": "string"
            },
            "text/plain": [
              "'/content'"
            ]
          },
          "metadata": {},
          "execution_count": 4
        }
      ]
    },
    {
      "cell_type": "code",
      "metadata": {
        "id": "enDDa96UnRJF"
      },
      "source": [
        "# 데이터 셋 분리 (train, test)\n",
        "train=pd.read_csv(\"gdrive/MyDrive/kaggle/Corona_NLP_train.csv\",encoding='latin1')\n",
        "test=pd.read_csv(\"gdrive/MyDrive/kaggle/Corona_NLP_test.csv\",encoding='latin1')"
      ],
      "execution_count": null,
      "outputs": []
    },
    {
      "cell_type": "code",
      "metadata": {
        "colab": {
          "base_uri": "https://localhost:8080/"
        },
        "id": "VDXZlYtRoqTY",
        "outputId": "0fcf3436-c354-4bd0-e1cd-f0a73af055a7"
      },
      "source": [
        "train['text'] = train.OriginalTweet\n",
        "train[\"text\"] = train[\"text\"].astype(str)   # str 문자형으로 변환 \n",
        "\n",
        "test['text'] = test.OriginalTweet\n",
        "test[\"text\"] = test[\"text\"].astype(str)      # str 문자형으로 변환\n",
        "\n",
        "# 등급화 : 3단계 \n",
        "# 데이터를 3개 등급(class)으로 분류 '  \n",
        "\n",
        "# Convert sentiment into Positive = 2 , Neutral = 1 , Negative =  0\n",
        "def classes_def(sentiment):\n",
        "    if sentiment == \"Extremely Positive\":\n",
        "        return \"2\"\n",
        "    elif sentiment == \"Extremely Negative\":\n",
        "        return \"0\"\n",
        "    elif sentiment == \"Positive\":\n",
        "        return \"2\"\n",
        "    elif sentiment == \"Negative\":\n",
        "        return \"0\"\n",
        "    else:\n",
        "        return \"1\"\n",
        "\n",
        "train['label']=train['Sentiment'].apply(lambda x:classes_def(x))\n",
        "test['label']=test['Sentiment'].apply(lambda x:classes_def(x))\n",
        "\n",
        "\n",
        "train.label.value_counts(normalize= True)"
      ],
      "execution_count": null,
      "outputs": [
        {
          "output_type": "execute_result",
          "data": {
            "text/plain": [
              "2    0.438467\n",
              "0    0.374128\n",
              "1    0.187404\n",
              "Name: label, dtype: float64"
            ]
          },
          "metadata": {},
          "execution_count": 6
        }
      ]
    },
    {
      "cell_type": "code",
      "metadata": {
        "colab": {
          "base_uri": "https://localhost:8080/"
        },
        "id": "iM6TvJk1q7wH",
        "outputId": "8c392650-91da-48e1-9e00-3de637333f9d"
      },
      "source": [
        "# null 값 확인 (모델 구축 위한 train 데이터 구조 확인) \n",
        "train.isnull().sum()"
      ],
      "execution_count": null,
      "outputs": [
        {
          "output_type": "execute_result",
          "data": {
            "text/plain": [
              "UserName            0\n",
              "ScreenName          0\n",
              "Location         8590\n",
              "TweetAt             0\n",
              "OriginalTweet       0\n",
              "Sentiment           0\n",
              "text                0\n",
              "label               0\n",
              "dtype: int64"
            ]
          },
          "metadata": {},
          "execution_count": 7
        }
      ]
    },
    {
      "cell_type": "code",
      "metadata": {
        "colab": {
          "base_uri": "https://localhost:8080/"
        },
        "id": "yCv2Yvak2Az1",
        "outputId": "d74af700-829b-4a48-82fd-8a55f1340305"
      },
      "source": [
        "# 전체 구조 확인\n",
        "train.info()"
      ],
      "execution_count": null,
      "outputs": [
        {
          "output_type": "stream",
          "name": "stdout",
          "text": [
            "<class 'pandas.core.frame.DataFrame'>\n",
            "RangeIndex: 41157 entries, 0 to 41156\n",
            "Data columns (total 8 columns):\n",
            " #   Column         Non-Null Count  Dtype \n",
            "---  ------         --------------  ----- \n",
            " 0   UserName       41157 non-null  int64 \n",
            " 1   ScreenName     41157 non-null  int64 \n",
            " 2   Location       32567 non-null  object\n",
            " 3   TweetAt        41157 non-null  object\n",
            " 4   OriginalTweet  41157 non-null  object\n",
            " 5   Sentiment      41157 non-null  object\n",
            " 6   text           41157 non-null  object\n",
            " 7   label          41157 non-null  object\n",
            "dtypes: int64(2), object(6)\n",
            "memory usage: 2.5+ MB\n"
          ]
        }
      ]
    },
    {
      "cell_type": "code",
      "metadata": {
        "colab": {
          "base_uri": "https://localhost:8080/"
        },
        "id": "Q1hm-EVPrVIw",
        "outputId": "817896c6-e388-4ac7-cb7e-be7d1d1628b1"
      },
      "source": [
        "# 감정분석 확인\n",
        "train.Sentiment.value_counts()"
      ],
      "execution_count": null,
      "outputs": [
        {
          "output_type": "execute_result",
          "data": {
            "text/plain": [
              "Positive              11422\n",
              "Negative               9917\n",
              "Neutral                7713\n",
              "Extremely Positive     6624\n",
              "Extremely Negative     5481\n",
              "Name: Sentiment, dtype: int64"
            ]
          },
          "metadata": {},
          "execution_count": 9
        }
      ]
    },
    {
      "cell_type": "code",
      "metadata": {
        "id": "N2pKbs3crVN7"
      },
      "source": [
        "# 감정분석 함수 적용 \n",
        "train.Sentiment = train.Sentiment.apply(lambda x : classes_def(x))"
      ],
      "execution_count": null,
      "outputs": []
    },
    {
      "cell_type": "code",
      "metadata": {
        "colab": {
          "base_uri": "https://localhost:8080/",
          "height": 427
        },
        "id": "zBEl5dqkrVyG",
        "outputId": "e6f5713e-c782-4021-dddc-a45ecc1a13d7"
      },
      "source": [
        "# 감정분석 결과 시각화 \n",
        "print(train.Sentiment.value_counts())\n",
        "print('*' * 70)\n",
        "plt.figure(figsize = (9,5)) \n",
        "sns.countplot(x = 'Sentiment',data = train)\n",
        "plt.show()"
      ],
      "execution_count": null,
      "outputs": [
        {
          "output_type": "stream",
          "name": "stdout",
          "text": [
            "2    18046\n",
            "0    15398\n",
            "1     7713\n",
            "Name: Sentiment, dtype: int64\n",
            "**********************************************************************\n"
          ]
        },
        {
          "output_type": "display_data",
          "data": {
            "image/png": "[encoded data removed]",
            "text/plain": [
              "<Figure size 648x360 with 1 Axes>"
            ]
          },
          "metadata": {
            "needs_background": "light"
          }
        }
      ]
    },
    {
      "cell_type": "markdown",
      "metadata": {
        "id": "4DXfXMPgqwWC"
      },
      "source": [
        "텍스트 전처리(가공)"
      ]
    },
    {
      "cell_type": "code",
      "metadata": {
        "id": "6YwjXE1wqoG0"
      },
      "source": [
        "# Urls and HTML links 제거 \n",
        "\n",
        "def remove_url(text):\n",
        "    url_remove = re.compile(r'https?://\\S+|www\\.\\S+') #  \n",
        "    return url_remove.sub(r'', text)\n",
        "\n",
        "train['text_new']=train['text'].apply(lambda x:remove_url(x))\n",
        "test['text_new']=test['text'].apply(lambda x:remove_url(x))\n",
        "\n",
        "\n",
        "def remove_html(text):\n",
        "    html=re.compile(r'<.*?>')\n",
        "    return html.sub(r'',text)   # 빈 칸으로 변경 \n",
        "\n",
        "train['text']=train['text_new'].apply(lambda x:remove_html(x))\n",
        "test['text']=test['text_new'].apply(lambda x:remove_html(x))"
      ],
      "execution_count": null,
      "outputs": []
    },
    {
      "cell_type": "code",
      "metadata": {
        "id": "xULtS4jHsxth"
      },
      "source": [
        "# 소문자로 변경 \n",
        "def lower(text):\n",
        "    low_text= text.lower()\n",
        "    return low_text\n",
        "\n",
        "train['text_new']=train['text'].apply(lambda x:lower(x))\n",
        "test['text_new']=test['text'].apply(lambda x:lower(x))"
      ],
      "execution_count": null,
      "outputs": []
    },
    {
      "cell_type": "code",
      "metadata": {
        "id": "52OLScuesxwY"
      },
      "source": [
        "# 숫자 제거 \n",
        "def remove_num(text):\n",
        "    remove= re.sub(r'\\d+', '', text)  # \n",
        "    return remove\n",
        "\n",
        "train['text']=train['text_new'].apply(lambda x:remove_num(x))\n",
        "test['text']=test['text_new'].apply(lambda x:remove_num(x))"
      ],
      "execution_count": null,
      "outputs": []
    },
    {
      "cell_type": "code",
      "metadata": {
        "colab": {
          "base_uri": "https://localhost:8080/"
        },
        "id": "3RJiBXv9tk5H",
        "outputId": "8fb9b9b9-01dc-4af7-a1f0-5f3585201a63"
      },
      "source": [
        "import nltk \n",
        "nltk.download('stopwords')"
      ],
      "execution_count": null,
      "outputs": [
        {
          "output_type": "stream",
          "name": "stdout",
          "text": [
            "[nltk_data] Downloading package stopwords to /root/nltk_data...\n",
            "[nltk_data]   Package stopwords is already up-to-date!\n"
          ]
        },
        {
          "output_type": "execute_result",
          "data": {
            "text/plain": [
              "True"
            ]
          },
          "metadata": {},
          "execution_count": 15
        }
      ]
    },
    {
      "cell_type": "code",
      "metadata": {
        "id": "MIqDK3bnsxzN"
      },
      "source": [
        "# 불용어(stopwords)와 구두점(puncutations) 제거 \n",
        "\n",
        "# 불용어(영어) 사전 구축\n",
        "from nltk.corpus import stopwords\n",
        "\n",
        "\n",
        "\", \".join(stopwords.words('english'))\n",
        "STOPWORDS = set(stopwords.words('english'))\n",
        "\n",
        "# 구두점 제거 함수 생성\n",
        "def punct_remove(text):\n",
        "    punct = re.sub(r\"[^\\w\\s\\d]\",\"\", text)  # \n",
        "    return punct\n",
        "\n",
        "train['text_new']=train['text'].apply(lambda x:punct_remove(x))\n",
        "test['text_new']=test['text'].apply(lambda x:punct_remove(x))\n",
        "\n",
        "\n",
        "# 불용어 제거 함수 생성\n",
        "def remove_stopwords(text):\n",
        "    \"\"\"custom function to remove the stopwords\"\"\"\n",
        "    return \" \".join([word for word in str(text).split() if word not in STOPWORDS])\n",
        "    # 불용어 사전에 없는 경우, 문자화한 text를 분리한 것에서 단어를 반복하여 추출 >> 리스트로 만들어 줌 \n",
        "\n",
        "train['text']=train['text_new'].apply(lambda x:remove_stopwords(x))\n",
        "test['text']=test['text_new'].apply(lambda x:remove_stopwords(x))\n"
      ],
      "execution_count": null,
      "outputs": []
    },
    {
      "cell_type": "code",
      "metadata": {
        "id": "WMI-Dcuhsx1m"
      },
      "source": [
        "# mentions and 해시태그(hashtags) 제거 \n",
        "def remove_mention(x):\n",
        "    text=re.sub(r'@\\w+','',x)\n",
        "    return text\n",
        "\n",
        "train['text_new']=train['text'].apply(lambda x:remove_mention(x))\n",
        "test['text_new']=test['text'].apply(lambda x:remove_mention(x))"
      ],
      "execution_count": null,
      "outputs": []
    },
    {
      "cell_type": "code",
      "metadata": {
        "id": "M1nAeAD1uRr1"
      },
      "source": [
        "def remove_hash(x):\n",
        "    text=re.sub(r'#\\w+','',x)\n",
        "    return text\n",
        "\n",
        "train['text']=train['text_new'].apply(lambda x:remove_hash(x))\n",
        "test['text']=test['text_new'].apply(lambda x:remove_hash(x))"
      ],
      "execution_count": null,
      "outputs": []
    },
    {
      "cell_type": "code",
      "metadata": {
        "id": "hTdwCLTg20wk"
      },
      "source": [
        "# 전처리 후, 공백 제거 \n",
        "def remove_space(text):\n",
        "    space_remove = re.sub(r\"\\s+\",\" \",text).strip()\n",
        "    return space_remove\n",
        "    \n",
        "train['text_new']=train['text'].apply(lambda x:remove_space(x))\n",
        "test['text_new']=test['text'].apply(lambda x:remove_space(x))\n",
        "test = test.drop(columns=['text_new'])\n",
        "train = train.drop(columns=['text_new'])"
      ],
      "execution_count": null,
      "outputs": []
    },
    {
      "cell_type": "code",
      "metadata": {
        "id": "Z1BS47EGuRuj"
      },
      "source": [
        "# 이모지(emoji) 제거 \n",
        "\n",
        "\n",
        "def remove_emoji(text):\n",
        "    emoji_pattern = re.compile(\"[\"\n",
        "                           u\"\\U0001F600-\\U0001F64F\"  # emoticons\n",
        "                           u\"\\U0001F300-\\U0001F5FF\"  # symbols & pictographs\n",
        "                           u\"\\U0001F680-\\U0001F6FF\"  # transport & map symbols\n",
        "                           u\"\\U0001F1E0-\\U0001F1FF\"  # flags (iOS)\n",
        "                           u\"\\U00002702-\\U000027B0\"\n",
        "                           u\"\\U000024C2-\\U0001F251\"\n",
        "                           \"]+\", flags=re.UNICODE)\n",
        "    return emoji_pattern.sub(r'', text)"
      ],
      "execution_count": null,
      "outputs": []
    },
    {
      "cell_type": "code",
      "metadata": {
        "id": "-WFOvYyBuRxR"
      },
      "source": [
        "def char(text):\n",
        "    substitute = re.sub(r'[^a-zA-Z]',' ',text)\n",
        "    return substitute"
      ],
      "execution_count": null,
      "outputs": []
    },
    {
      "cell_type": "code",
      "metadata": {
        "id": "N92FAPHwsx38"
      },
      "source": [
        "stop_words = ['a', 'an', 'the']\n",
        "\n",
        "# Basic cleansing\n",
        "def cleansing(text):\n",
        "    # Tokenize\n",
        "    tokens = text.split(' ')\n",
        "    # Lower case\n",
        "    tokens = [w.lower() for w in tokens]\n",
        "    # Remove stop words\n",
        "    tokens = [w for w in tokens if w not in stop_words]\n",
        "    return ' '.join(tokens)\n",
        "\n",
        "# All-in-one preproce\n",
        "def preprocess_x(x):\n",
        "    processed_x = [cleansing(text) for text in x]\n",
        "    \n",
        "    return processed_x\n",
        "\n",
        "train['text_new']=train['text'].apply(lambda x:preprocess_x(x))\n",
        "test['text_new']=test['text'].apply(lambda x:preprocess_x(x))"
      ],
      "execution_count": null,
      "outputs": []
    },
    {
      "cell_type": "code",
      "metadata": {
        "id": "teByniXVwDen"
      },
      "source": [
        "# 불용어 추가 \n",
        "stop_words = ['a', 'an', 'the']\n",
        "\n",
        "# Basic cleansing\n",
        "def cleansing(text):\n",
        "    # Tokenize\n",
        "    tokens = text.split(' ')\n",
        "    # Lower case\n",
        "    tokens = [w.lower() for w in tokens]\n",
        "    # Remove stop words\n",
        "    tokens = [w for w in tokens if w not in stop_words]\n",
        "    return ' '.join(tokens)\n",
        "\n",
        "# All-in-one preproce\n",
        "def preprocess_x(x):\n",
        "    processed_x = [cleansing(text) for text in x]\n",
        "    \n",
        "    return processed_x\n",
        "\n",
        "train['text_new']=train['text'].apply(lambda x:preprocess_x(x))\n",
        "test['text_new']=test['text'].apply(lambda x:preprocess_x(x))"
      ],
      "execution_count": null,
      "outputs": []
    },
    {
      "cell_type": "code",
      "metadata": {
        "colab": {
          "base_uri": "https://localhost:8080/",
          "height": 310
        },
        "id": "wtTsDIsC3Eoi",
        "outputId": "de376447-21cb-4f72-d790-5f2f11181aba"
      },
      "source": [
        "# df 생성 (train 뒤에 test 붙이기)\n",
        "df = train.append(test, ignore_index=True)\n",
        "df.head()  "
      ],
      "execution_count": null,
      "outputs": [
        {
          "output_type": "execute_result",
          "data": {
            "text/html": [
              "<div>\n",
              "<style scoped>\n",
              "    .dataframe tbody tr th:only-of-type {\n",
              "        vertical-align: middle;\n",
              "    }\n",
              "\n",
              "    .dataframe tbody tr th {\n",
              "        vertical-align: top;\n",
              "    }\n",
              "\n",
              "    .dataframe thead th {\n",
              "        text-align: right;\n",
              "    }\n",
              "</style>\n",
              "<table border=\"1\" class=\"dataframe\">\n",
              "  <thead>\n",
              "    <tr style=\"text-align: right;\">\n",
              "      <th></th>\n",
              "      <th>UserName</th>\n",
              "      <th>ScreenName</th>\n",
              "      <th>Location</th>\n",
              "      <th>TweetAt</th>\n",
              "      <th>OriginalTweet</th>\n",
              "      <th>Sentiment</th>\n",
              "      <th>text</th>\n",
              "      <th>label</th>\n",
              "      <th>text_new</th>\n",
              "    </tr>\n",
              "  </thead>\n",
              "  <tbody>\n",
              "    <tr>\n",
              "      <th>0</th>\n",
              "      <td>3799</td>\n",
              "      <td>48751</td>\n",
              "      <td>London</td>\n",
              "      <td>16-03-2020</td>\n",
              "      <td>@MeNyrbie @Phil_Gahan @Chrisitv https://t.co/i...</td>\n",
              "      <td>1</td>\n",
              "      <td>menyrbie phil_gahan chrisitv</td>\n",
              "      <td>1</td>\n",
              "      <td>[m, e, n, y, r, b, i, e,  , p, h, i, l, _, g, ...</td>\n",
              "    </tr>\n",
              "    <tr>\n",
              "      <th>1</th>\n",
              "      <td>3800</td>\n",
              "      <td>48752</td>\n",
              "      <td>UK</td>\n",
              "      <td>16-03-2020</td>\n",
              "      <td>advice Talk to your neighbours family to excha...</td>\n",
              "      <td>2</td>\n",
              "      <td>advice talk neighbours family exchange phone n...</td>\n",
              "      <td>2</td>\n",
              "      <td>[, d, v, i, c, e,  , t, , l, k,  , n, e, i, g,...</td>\n",
              "    </tr>\n",
              "    <tr>\n",
              "      <th>2</th>\n",
              "      <td>3801</td>\n",
              "      <td>48753</td>\n",
              "      <td>Vagabonds</td>\n",
              "      <td>16-03-2020</td>\n",
              "      <td>Coronavirus Australia: Woolworths to give elde...</td>\n",
              "      <td>2</td>\n",
              "      <td>coronavirus australia woolworths give elderly ...</td>\n",
              "      <td>2</td>\n",
              "      <td>[c, o, r, o, n, , v, i, r, u, s,  , , u, s, t,...</td>\n",
              "    </tr>\n",
              "    <tr>\n",
              "      <th>3</th>\n",
              "      <td>3802</td>\n",
              "      <td>48754</td>\n",
              "      <td>NaN</td>\n",
              "      <td>16-03-2020</td>\n",
              "      <td>My food stock is not the only one which is emp...</td>\n",
              "      <td>2</td>\n",
              "      <td>food stock one empty please dont panic enough ...</td>\n",
              "      <td>2</td>\n",
              "      <td>[f, o, o, d,  , s, t, o, c, k,  , o, n, e,  , ...</td>\n",
              "    </tr>\n",
              "    <tr>\n",
              "      <th>4</th>\n",
              "      <td>3803</td>\n",
              "      <td>48755</td>\n",
              "      <td>NaN</td>\n",
              "      <td>16-03-2020</td>\n",
              "      <td>Me, ready to go at supermarket during the #COV...</td>\n",
              "      <td>0</td>\n",
              "      <td>ready go supermarket covid outbreak im paranoi...</td>\n",
              "      <td>0</td>\n",
              "      <td>[r, e, , d, y,  , g, o,  , s, u, p, e, r, m, ,...</td>\n",
              "    </tr>\n",
              "  </tbody>\n",
              "</table>\n",
              "</div>"
            ],
            "text/plain": [
              "   UserName  ...                                           text_new\n",
              "0      3799  ...  [m, e, n, y, r, b, i, e,  , p, h, i, l, _, g, ...\n",
              "1      3800  ...  [, d, v, i, c, e,  , t, , l, k,  , n, e, i, g,...\n",
              "2      3801  ...  [c, o, r, o, n, , v, i, r, u, s,  , , u, s, t,...\n",
              "3      3802  ...  [f, o, o, d,  , s, t, o, c, k,  , o, n, e,  , ...\n",
              "4      3803  ...  [r, e, , d, y,  , g, o,  , s, u, p, e, r, m, ,...\n",
              "\n",
              "[5 rows x 9 columns]"
            ]
          },
          "metadata": {},
          "execution_count": 24
        }
      ]
    },
    {
      "cell_type": "code",
      "metadata": {
        "id": "kvYqfLXHwIJG"
      },
      "source": [
        "#  OriginalTweet 에 함수 적용 \n",
        "df['OriginalTweet'] = df['OriginalTweet'].apply(lambda x : remove_url(x))\n",
        "df['OriginalTweet'] = df['OriginalTweet'].apply(lambda x : remove_html(x))\n",
        "df['OriginalTweet'] = df['OriginalTweet'].apply(lambda x : remove_hash(x))\n",
        "df['OriginalTweet'] = df['OriginalTweet'].apply(lambda x : remove_num(x))\n",
        "df['OriginalTweet'] = df['OriginalTweet'].apply(lambda x : x.lower())\n",
        "df['OriginalTweet'] = df['OriginalTweet'].apply(lambda x : remove_emoji(x))\n",
        "df['OriginalTweet'] = df['OriginalTweet'].apply(lambda x : punct_remove(x))\n",
        "df['OriginalTweet'] = df['OriginalTweet'].apply(lambda x : remove_stopwords(x))\n",
        "df['OriginalTweet'] = df['OriginalTweet'].apply(lambda x : remove_mention(x))\n",
        "df['OriginalTweet'] = df['OriginalTweet'].apply(lambda x : char(x))\n",
        "df['OriginalTweet'] = df['OriginalTweet'].apply(lambda x : cleansing(x))\n",
        "df['OriginalTweet'] = df['OriginalTweet'].apply(lambda x : preprocess_x(x))\n",
        "\n"
      ],
      "execution_count": null,
      "outputs": []
    },
    {
      "cell_type": "code",
      "metadata": {
        "colab": {
          "base_uri": "https://localhost:8080/",
          "height": 632
        },
        "id": "QNAoT6YKwPQk",
        "outputId": "85a5aa29-2b41-49e7-a84a-44322c3a6be1"
      },
      "source": [
        "df"
      ],
      "execution_count": null,
      "outputs": [
        {
          "output_type": "execute_result",
          "data": {
            "text/html": [
              "<div>\n",
              "<style scoped>\n",
              "    .dataframe tbody tr th:only-of-type {\n",
              "        vertical-align: middle;\n",
              "    }\n",
              "\n",
              "    .dataframe tbody tr th {\n",
              "        vertical-align: top;\n",
              "    }\n",
              "\n",
              "    .dataframe thead th {\n",
              "        text-align: right;\n",
              "    }\n",
              "</style>\n",
              "<table border=\"1\" class=\"dataframe\">\n",
              "  <thead>\n",
              "    <tr style=\"text-align: right;\">\n",
              "      <th></th>\n",
              "      <th>UserName</th>\n",
              "      <th>ScreenName</th>\n",
              "      <th>Location</th>\n",
              "      <th>TweetAt</th>\n",
              "      <th>OriginalTweet</th>\n",
              "      <th>Sentiment</th>\n",
              "      <th>text</th>\n",
              "      <th>label</th>\n",
              "      <th>text_new</th>\n",
              "    </tr>\n",
              "  </thead>\n",
              "  <tbody>\n",
              "    <tr>\n",
              "      <th>0</th>\n",
              "      <td>3799</td>\n",
              "      <td>48751</td>\n",
              "      <td>London</td>\n",
              "      <td>16-03-2020</td>\n",
              "      <td>[m, e, n, y, r, b, i, e,  , p, h, i, l,  , g, ...</td>\n",
              "      <td>1</td>\n",
              "      <td>menyrbie phil_gahan chrisitv</td>\n",
              "      <td>1</td>\n",
              "      <td>[m, e, n, y, r, b, i, e,  , p, h, i, l, _, g, ...</td>\n",
              "    </tr>\n",
              "    <tr>\n",
              "      <th>1</th>\n",
              "      <td>3800</td>\n",
              "      <td>48752</td>\n",
              "      <td>UK</td>\n",
              "      <td>16-03-2020</td>\n",
              "      <td>[, d, v, i, c, e,  , t, , l, k,  , n, e, i, g,...</td>\n",
              "      <td>2</td>\n",
              "      <td>advice talk neighbours family exchange phone n...</td>\n",
              "      <td>2</td>\n",
              "      <td>[, d, v, i, c, e,  , t, , l, k,  , n, e, i, g,...</td>\n",
              "    </tr>\n",
              "    <tr>\n",
              "      <th>2</th>\n",
              "      <td>3801</td>\n",
              "      <td>48753</td>\n",
              "      <td>Vagabonds</td>\n",
              "      <td>16-03-2020</td>\n",
              "      <td>[c, o, r, o, n, , v, i, r, u, s,  , , u, s, t,...</td>\n",
              "      <td>2</td>\n",
              "      <td>coronavirus australia woolworths give elderly ...</td>\n",
              "      <td>2</td>\n",
              "      <td>[c, o, r, o, n, , v, i, r, u, s,  , , u, s, t,...</td>\n",
              "    </tr>\n",
              "    <tr>\n",
              "      <th>3</th>\n",
              "      <td>3802</td>\n",
              "      <td>48754</td>\n",
              "      <td>NaN</td>\n",
              "      <td>16-03-2020</td>\n",
              "      <td>[f, o, o, d,  , s, t, o, c, k,  , o, n, e,  , ...</td>\n",
              "      <td>2</td>\n",
              "      <td>food stock one empty please dont panic enough ...</td>\n",
              "      <td>2</td>\n",
              "      <td>[f, o, o, d,  , s, t, o, c, k,  , o, n, e,  , ...</td>\n",
              "    </tr>\n",
              "    <tr>\n",
              "      <th>4</th>\n",
              "      <td>3803</td>\n",
              "      <td>48755</td>\n",
              "      <td>NaN</td>\n",
              "      <td>16-03-2020</td>\n",
              "      <td>[r, e, , d, y,  , g, o,  , s, u, p, e, r, m, ,...</td>\n",
              "      <td>0</td>\n",
              "      <td>ready go supermarket covid outbreak im paranoi...</td>\n",
              "      <td>0</td>\n",
              "      <td>[r, e, , d, y,  , g, o,  , s, u, p, e, r, m, ,...</td>\n",
              "    </tr>\n",
              "    <tr>\n",
              "      <th>...</th>\n",
              "      <td>...</td>\n",
              "      <td>...</td>\n",
              "      <td>...</td>\n",
              "      <td>...</td>\n",
              "      <td>...</td>\n",
              "      <td>...</td>\n",
              "      <td>...</td>\n",
              "      <td>...</td>\n",
              "      <td>...</td>\n",
              "    </tr>\n",
              "    <tr>\n",
              "      <th>44950</th>\n",
              "      <td>3794</td>\n",
              "      <td>48746</td>\n",
              "      <td>Israel ??</td>\n",
              "      <td>16-03-2020</td>\n",
              "      <td>[m, e, , n, w, h, i, l, e,  , s, u, p, e, r, m...</td>\n",
              "      <td>Positive</td>\n",
              "      <td>meanwhile supermarket israel people dance sing...</td>\n",
              "      <td>2</td>\n",
              "      <td>[m, e, , n, w, h, i, l, e,  , s, u, p, e, r, m...</td>\n",
              "    </tr>\n",
              "    <tr>\n",
              "      <th>44951</th>\n",
              "      <td>3795</td>\n",
              "      <td>48747</td>\n",
              "      <td>Farmington, NM</td>\n",
              "      <td>16-03-2020</td>\n",
              "      <td>[p, , n, i, c,  , b, u, y,  , l, o, t,  , n, o...</td>\n",
              "      <td>Negative</td>\n",
              "      <td>panic buy lot nonperishable items echo needs f...</td>\n",
              "      <td>0</td>\n",
              "      <td>[p, , n, i, c,  , b, u, y,  , l, o, t,  , n, o...</td>\n",
              "    </tr>\n",
              "    <tr>\n",
              "      <th>44952</th>\n",
              "      <td>3796</td>\n",
              "      <td>48748</td>\n",
              "      <td>Haverford, PA</td>\n",
              "      <td>16-03-2020</td>\n",
              "      <td>[, s, s, t,  , p, r, o, f,  , e, c, o, n, o, m...</td>\n",
              "      <td>Neutral</td>\n",
              "      <td>asst prof economics cconces nbcphiladelphia ta...</td>\n",
              "      <td>1</td>\n",
              "      <td>[, s, s, t,  , p, r, o, f,  , e, c, o, n, o, m...</td>\n",
              "    </tr>\n",
              "    <tr>\n",
              "      <th>44953</th>\n",
              "      <td>3797</td>\n",
              "      <td>48749</td>\n",
              "      <td>NaN</td>\n",
              "      <td>16-03-2020</td>\n",
              "      <td>[g, o, v,  , n, e, e, d,  , s, o, m, e, t, h, ...</td>\n",
              "      <td>Extremely Negative</td>\n",
              "      <td>gov need somethings instead biar je rakyat ass...</td>\n",
              "      <td>0</td>\n",
              "      <td>[g, o, v,  , n, e, e, d,  , s, o, m, e, t, h, ...</td>\n",
              "    </tr>\n",
              "    <tr>\n",
              "      <th>44954</th>\n",
              "      <td>3798</td>\n",
              "      <td>48750</td>\n",
              "      <td>Arlington, Virginia</td>\n",
              "      <td>16-03-2020</td>\n",
              "      <td>[f, o, r, e, s, t, , n, d, p, , p, e, r,  , m,...</td>\n",
              "      <td>Extremely Positive</td>\n",
              "      <td>forestandpaper members committed safety employ...</td>\n",
              "      <td>2</td>\n",
              "      <td>[f, o, r, e, s, t, , n, d, p, , p, e, r,  , m,...</td>\n",
              "    </tr>\n",
              "  </tbody>\n",
              "</table>\n",
              "<p>44955 rows × 9 columns</p>\n",
              "</div>"
            ],
            "text/plain": [
              "       UserName  ...                                           text_new\n",
              "0          3799  ...  [m, e, n, y, r, b, i, e,  , p, h, i, l, _, g, ...\n",
              "1          3800  ...  [, d, v, i, c, e,  , t, , l, k,  , n, e, i, g,...\n",
              "2          3801  ...  [c, o, r, o, n, , v, i, r, u, s,  , , u, s, t,...\n",
              "3          3802  ...  [f, o, o, d,  , s, t, o, c, k,  , o, n, e,  , ...\n",
              "4          3803  ...  [r, e, , d, y,  , g, o,  , s, u, p, e, r, m, ,...\n",
              "...         ...  ...                                                ...\n",
              "44950      3794  ...  [m, e, , n, w, h, i, l, e,  , s, u, p, e, r, m...\n",
              "44951      3795  ...  [p, , n, i, c,  , b, u, y,  , l, o, t,  , n, o...\n",
              "44952      3796  ...  [, s, s, t,  , p, r, o, f,  , e, c, o, n, o, m...\n",
              "44953      3797  ...  [g, o, v,  , n, e, e, d,  , s, o, m, e, t, h, ...\n",
              "44954      3798  ...  [f, o, r, e, s, t, , n, d, p, , p, e, r,  , m,...\n",
              "\n",
              "[44955 rows x 9 columns]"
            ]
          },
          "metadata": {},
          "execution_count": 26
        }
      ]
    },
    {
      "cell_type": "code",
      "metadata": {
        "id": "ajOAyfKQyttg"
      },
      "source": [
        "# 데이터셋 분리(X,y) 후, 리스트로 만들어 주기 \n",
        "\n",
        "X = train[\"text\"].tolist()      \n",
        "y = train[\"label\"].tolist()\n",
        "\n",
        "X_train, X_test, y_train, y_test = train_test_split(X, y, \n",
        "                                                    test_size=0.10,  \n",
        "                                                    random_state = 0)"
      ],
      "execution_count": null,
      "outputs": []
    },
    {
      "cell_type": "code",
      "metadata": {
        "colab": {
          "base_uri": "https://localhost:8080/"
        },
        "id": "vAqgic6wy4H5",
        "outputId": "4e6b7fe2-7b6a-43ab-ef81-f23fbcc5d7ec"
      },
      "source": [
        "# tf-idf 적용 \n",
        "\n",
        "tfidf = TfidfVectorizer(sublinear_tf=True, min_df=5,\n",
        "                    \n",
        "                        stop_words='english')\n",
        "\n",
        "# 텍스트를 벡터로 만들어 주기 \n",
        "features = tfidf.fit_transform(train.text).toarray()   # 배열로 변경 \n",
        "\n",
        "labels = train.label\n",
        "\n",
        "print(\"Each of the %d tweets is represented by %d features (TF-IDF score of unigrams and bigrams)\" %(features.shape))"
      ],
      "execution_count": null,
      "outputs": [
        {
          "output_type": "stream",
          "name": "stdout",
          "text": [
            "Each of the 41157 tweets is represented by 10615 features (TF-IDF score of unigrams and bigrams)\n"
          ]
        }
      ]
    },
    {
      "cell_type": "code",
      "metadata": {
        "colab": {
          "base_uri": "https://localhost:8080/",
          "height": 520
        },
        "id": "7YrxE9L8y6tq",
        "outputId": "f15cf24a-3981-4a5c-81ea-8d83de5c04dc"
      },
      "source": [
        "# 머신러닝 기법 중, 랜덤 포레스트, 선형 SVC, Multinomial 나이브베이즈 적용 \n",
        "\n",
        "models = [\n",
        "    RandomForestClassifier(n_estimators=100, max_depth=5, random_state=0),\n",
        "    LinearSVC(),\n",
        "    MultinomialNB(),\n",
        "]\n",
        "\n",
        "# 5 개의 교차 분석 실시(Cross-validation_)\n",
        "CV = 5\n",
        "cv_df = pd.DataFrame(index=range(CV * len(models)))\n",
        "\n",
        "entries = []\n",
        "\n",
        "for model in models:\n",
        "  model_name = model.__class__.__name__\n",
        "  accuracies = cross_val_score(model, features, labels, scoring='accuracy', cv=CV)\n",
        "  for fold_idx, accuracy in enumerate(accuracies):\n",
        "    entries.append((model_name, fold_idx, accuracy))\n",
        "    \n",
        "cv_df = pd.DataFrame(entries, columns=['model_name', 'fold_idx', 'accuracy'])\n",
        "cv_df"
      ],
      "execution_count": null,
      "outputs": [
        {
          "output_type": "execute_result",
          "data": {
            "text/html": [
              "<div>\n",
              "<style scoped>\n",
              "    .dataframe tbody tr th:only-of-type {\n",
              "        vertical-align: middle;\n",
              "    }\n",
              "\n",
              "    .dataframe tbody tr th {\n",
              "        vertical-align: top;\n",
              "    }\n",
              "\n",
              "    .dataframe thead th {\n",
              "        text-align: right;\n",
              "    }\n",
              "</style>\n",
              "<table border=\"1\" class=\"dataframe\">\n",
              "  <thead>\n",
              "    <tr style=\"text-align: right;\">\n",
              "      <th></th>\n",
              "      <th>model_name</th>\n",
              "      <th>fold_idx</th>\n",
              "      <th>accuracy</th>\n",
              "    </tr>\n",
              "  </thead>\n",
              "  <tbody>\n",
              "    <tr>\n",
              "      <th>0</th>\n",
              "      <td>RandomForestClassifier</td>\n",
              "      <td>0</td>\n",
              "      <td>0.474976</td>\n",
              "    </tr>\n",
              "    <tr>\n",
              "      <th>1</th>\n",
              "      <td>RandomForestClassifier</td>\n",
              "      <td>1</td>\n",
              "      <td>0.469631</td>\n",
              "    </tr>\n",
              "    <tr>\n",
              "      <th>2</th>\n",
              "      <td>RandomForestClassifier</td>\n",
              "      <td>2</td>\n",
              "      <td>0.472118</td>\n",
              "    </tr>\n",
              "    <tr>\n",
              "      <th>3</th>\n",
              "      <td>RandomForestClassifier</td>\n",
              "      <td>3</td>\n",
              "      <td>0.467987</td>\n",
              "    </tr>\n",
              "    <tr>\n",
              "      <th>4</th>\n",
              "      <td>RandomForestClassifier</td>\n",
              "      <td>4</td>\n",
              "      <td>0.465436</td>\n",
              "    </tr>\n",
              "    <tr>\n",
              "      <th>5</th>\n",
              "      <td>LinearSVC</td>\n",
              "      <td>0</td>\n",
              "      <td>0.782070</td>\n",
              "    </tr>\n",
              "    <tr>\n",
              "      <th>6</th>\n",
              "      <td>LinearSVC</td>\n",
              "      <td>1</td>\n",
              "      <td>0.780855</td>\n",
              "    </tr>\n",
              "    <tr>\n",
              "      <th>7</th>\n",
              "      <td>LinearSVC</td>\n",
              "      <td>2</td>\n",
              "      <td>0.780464</td>\n",
              "    </tr>\n",
              "    <tr>\n",
              "      <th>8</th>\n",
              "      <td>LinearSVC</td>\n",
              "      <td>3</td>\n",
              "      <td>0.789333</td>\n",
              "    </tr>\n",
              "    <tr>\n",
              "      <th>9</th>\n",
              "      <td>LinearSVC</td>\n",
              "      <td>4</td>\n",
              "      <td>0.789333</td>\n",
              "    </tr>\n",
              "    <tr>\n",
              "      <th>10</th>\n",
              "      <td>MultinomialNB</td>\n",
              "      <td>0</td>\n",
              "      <td>0.659378</td>\n",
              "    </tr>\n",
              "    <tr>\n",
              "      <th>11</th>\n",
              "      <td>MultinomialNB</td>\n",
              "      <td>1</td>\n",
              "      <td>0.660836</td>\n",
              "    </tr>\n",
              "    <tr>\n",
              "      <th>12</th>\n",
              "      <td>MultinomialNB</td>\n",
              "      <td>2</td>\n",
              "      <td>0.654598</td>\n",
              "    </tr>\n",
              "    <tr>\n",
              "      <th>13</th>\n",
              "      <td>MultinomialNB</td>\n",
              "      <td>3</td>\n",
              "      <td>0.659944</td>\n",
              "    </tr>\n",
              "    <tr>\n",
              "      <th>14</th>\n",
              "      <td>MultinomialNB</td>\n",
              "      <td>4</td>\n",
              "      <td>0.664196</td>\n",
              "    </tr>\n",
              "  </tbody>\n",
              "</table>\n",
              "</div>"
            ],
            "text/plain": [
              "                model_name  fold_idx  accuracy\n",
              "0   RandomForestClassifier         0  0.474976\n",
              "1   RandomForestClassifier         1  0.469631\n",
              "2   RandomForestClassifier         2  0.472118\n",
              "3   RandomForestClassifier         3  0.467987\n",
              "4   RandomForestClassifier         4  0.465436\n",
              "5                LinearSVC         0  0.782070\n",
              "6                LinearSVC         1  0.780855\n",
              "7                LinearSVC         2  0.780464\n",
              "8                LinearSVC         3  0.789333\n",
              "9                LinearSVC         4  0.789333\n",
              "10           MultinomialNB         0  0.659378\n",
              "11           MultinomialNB         1  0.660836\n",
              "12           MultinomialNB         2  0.654598\n",
              "13           MultinomialNB         3  0.659944\n",
              "14           MultinomialNB         4  0.664196"
            ]
          },
          "metadata": {},
          "execution_count": 29
        }
      ]
    },
    {
      "cell_type": "code",
      "metadata": {
        "colab": {
          "base_uri": "https://localhost:8080/",
          "height": 175
        },
        "id": "04Nb0E2ly9Ss",
        "outputId": "63a7109d-8cf1-495c-ef0f-89ee82e65b18"
      },
      "source": [
        "# 교차 분석 평균 값(평균 정확도, 표준편차 정확도 구하기)\n",
        "mean_accuracy = cv_df.groupby('model_name').accuracy.mean()\n",
        "std_accuracy = cv_df.groupby('model_name').accuracy.std()\n",
        "\n",
        "acc = pd.concat([mean_accuracy, std_accuracy], axis= 1, \n",
        "          ignore_index=True)\n",
        "acc.columns = ['Mean Accuracy', 'Standard deviation']\n",
        "acc"
      ],
      "execution_count": null,
      "outputs": [
        {
          "output_type": "execute_result",
          "data": {
            "text/html": [
              "<div>\n",
              "<style scoped>\n",
              "    .dataframe tbody tr th:only-of-type {\n",
              "        vertical-align: middle;\n",
              "    }\n",
              "\n",
              "    .dataframe tbody tr th {\n",
              "        vertical-align: top;\n",
              "    }\n",
              "\n",
              "    .dataframe thead th {\n",
              "        text-align: right;\n",
              "    }\n",
              "</style>\n",
              "<table border=\"1\" class=\"dataframe\">\n",
              "  <thead>\n",
              "    <tr style=\"text-align: right;\">\n",
              "      <th></th>\n",
              "      <th>Mean Accuracy</th>\n",
              "      <th>Standard deviation</th>\n",
              "    </tr>\n",
              "    <tr>\n",
              "      <th>model_name</th>\n",
              "      <th></th>\n",
              "      <th></th>\n",
              "    </tr>\n",
              "  </thead>\n",
              "  <tbody>\n",
              "    <tr>\n",
              "      <th>LinearSVC</th>\n",
              "      <td>0.784411</td>\n",
              "      <td>0.004532</td>\n",
              "    </tr>\n",
              "    <tr>\n",
              "      <th>MultinomialNB</th>\n",
              "      <td>0.659791</td>\n",
              "      <td>0.003452</td>\n",
              "    </tr>\n",
              "    <tr>\n",
              "      <th>RandomForestClassifier</th>\n",
              "      <td>0.470029</td>\n",
              "      <td>0.003683</td>\n",
              "    </tr>\n",
              "  </tbody>\n",
              "</table>\n",
              "</div>"
            ],
            "text/plain": [
              "                        Mean Accuracy  Standard deviation\n",
              "model_name                                               \n",
              "LinearSVC                    0.784411            0.004532\n",
              "MultinomialNB                0.659791            0.003452\n",
              "RandomForestClassifier       0.470029            0.003683"
            ]
          },
          "metadata": {},
          "execution_count": 30
        }
      ]
    },
    {
      "cell_type": "code",
      "metadata": {
        "colab": {
          "base_uri": "https://localhost:8080/",
          "height": 370
        },
        "id": "oHhhmxcoy-0x",
        "outputId": "dd2c6621-5f87-422c-e12e-83c724b03673"
      },
      "source": [
        "# 결과 시각화 하기 \n",
        "\n",
        "plt.figure(figsize=(8,5))\n",
        "sns.boxplot(x='model_name', y='accuracy', \n",
        "            data=cv_df, \n",
        "            color='lightblue', \n",
        "            showmeans=True)\n",
        "plt.title(\"MEAN ACCURACY (cv = 5)\\n\", size=14);"
      ],
      "execution_count": null,
      "outputs": [
        {
          "output_type": "display_data",
          "data": {
            "image/png": "[encoded data removed]",
            "text/plain": [
              "<Figure size 576x360 with 1 Axes>"
            ]
          },
          "metadata": {
            "needs_background": "light"
          }
        }
      ]
    },
    {
      "cell_type": "code",
      "metadata": {
        "id": "vUaj76_qzAlM"
      },
      "source": [
        "X_train, X_test, y_train, y_test,indices_train,indices_test = train_test_split(features, \n",
        "                                                               labels, \n",
        "                                                               train.index, test_size=0.10, \n",
        "                                                               random_state=1)\n",
        "model =   LinearSVC()\n",
        "model.fit(X_train, y_train)\n",
        "y_pred = model.predict(X_test)\n"
      ],
      "execution_count": null,
      "outputs": []
    },
    {
      "cell_type": "code",
      "metadata": {
        "colab": {
          "base_uri": "https://localhost:8080/"
        },
        "id": "1kmhPD9qzDBz",
        "outputId": "7e944f0e-b374-4706-d564-5b67500cb56c"
      },
      "source": [
        "# Classification report\n",
        "\n",
        "from sklearn.model_selection import cross_val_score\n",
        "from sklearn.metrics import confusion_matrix\n",
        "from sklearn import metrics\n",
        "\n",
        "print('\\t\\t\\t\\tCLASSIFICATIION METRICS\\n')\n",
        "print(metrics.classification_report(y_test, y_pred, \n",
        "                                    target_names= train['label'].unique()))"
      ],
      "execution_count": null,
      "outputs": [
        {
          "output_type": "stream",
          "name": "stdout",
          "text": [
            "\t\t\t\tCLASSIFICATIION METRICS\n",
            "\n",
            "              precision    recall  f1-score   support\n",
            "\n",
            "           1       0.80      0.79      0.80      1554\n",
            "           2       0.69      0.67      0.68       760\n",
            "           0       0.82      0.84      0.83      1802\n",
            "\n",
            "    accuracy                           0.79      4116\n",
            "   macro avg       0.77      0.77      0.77      4116\n",
            "weighted avg       0.79      0.79      0.79      4116\n",
            "\n"
          ]
        }
      ]
    },
    {
      "cell_type": "markdown",
      "metadata": {
        "id": "962pz3w9yT6A"
      },
      "source": [
        "결과 해석\n",
        "\n",
        "1. 분석 결과, LinearSVC (서포트벡터머신) 결과가 0.784411 가장 우수\n",
        "2. 랜덤포레스트 결과가 기대 이하로 나타남(0.470029) \n",
        "3. LinearSVC로 Confusion Matrix로 확인 결과, 정확도(acc) 79% 임\n",
        "4. f1-score(recall과 precision을 조화평균한 값)이 1('Neutral'),0('Negative') 는 0.80, 0.83으로 분류된 반면, 2('Positive')는 0.68로 성능이 상당히 떨어지는 것으로 나타남 \n",
        "\n",
        ">> 결론 : 이에 딥러닝 기법인 LSTM으로 추가 분석을 실시하고자 함\n",
        "\n"
      ]
    },
    {
      "cell_type": "code",
      "metadata": {
        "colab": {
          "base_uri": "https://localhost:8080/"
        },
        "id": "bFsjTL4Wv8_u",
        "outputId": "873968ef-a7b2-46cf-bf66-33c2521e4e10"
      },
      "source": [
        "train['label']"
      ],
      "execution_count": null,
      "outputs": [
        {
          "output_type": "execute_result",
          "data": {
            "text/plain": [
              "0        1\n",
              "1        2\n",
              "2        2\n",
              "3        2\n",
              "4        0\n",
              "        ..\n",
              "41152    1\n",
              "41153    0\n",
              "41154    2\n",
              "41155    1\n",
              "41156    0\n",
              "Name: label, Length: 41157, dtype: object"
            ]
          },
          "metadata": {},
          "execution_count": 59
        }
      ]
    },
    {
      "cell_type": "code",
      "metadata": {
        "colab": {
          "base_uri": "https://localhost:8080/"
        },
        "id": "souU0DWlw3l-",
        "outputId": "feaaf9c6-4701-48a7-c091-6a5865be2168"
      },
      "source": [
        "test['label']"
      ],
      "execution_count": null,
      "outputs": [
        {
          "output_type": "execute_result",
          "data": {
            "text/plain": [
              "0       0\n",
              "1       2\n",
              "2       2\n",
              "3       0\n",
              "4       1\n",
              "       ..\n",
              "3793    2\n",
              "3794    0\n",
              "3795    1\n",
              "3796    0\n",
              "3797    2\n",
              "Name: label, Length: 3798, dtype: object"
            ]
          },
          "metadata": {},
          "execution_count": 68
        }
      ]
    },
    {
      "cell_type": "code",
      "metadata": {
        "colab": {
          "base_uri": "https://localhost:8080/"
        },
        "id": "RvzIXO6wwziV",
        "outputId": "63764325-a4dd-4b38-ad52-5079eb25a7ce"
      },
      "source": [
        "df['label']"
      ],
      "execution_count": null,
      "outputs": [
        {
          "output_type": "execute_result",
          "data": {
            "text/plain": [
              "0        1\n",
              "1        2\n",
              "2        2\n",
              "3        2\n",
              "4        0\n",
              "        ..\n",
              "44950    2\n",
              "44951    0\n",
              "44952    1\n",
              "44953    0\n",
              "44954    2\n",
              "Name: label, Length: 44955, dtype: object"
            ]
          },
          "metadata": {},
          "execution_count": 67
        }
      ]
    },
    {
      "cell_type": "markdown",
      "metadata": {
        "id": "P4sxGSbC7ZXk"
      },
      "source": [
        "딥러닝 기법 모델 적용(LSTM)"
      ]
    },
    {
      "cell_type": "code",
      "metadata": {
        "id": "HQC3obDv1cRR"
      },
      "source": [
        "# 데이터 셋 분리 (train, test)\n",
        "train=pd.read_csv(\"gdrive/MyDrive/kaggle/Corona_NLP_train.csv\",encoding='latin1')\n",
        "test=pd.read_csv(\"gdrive/MyDrive/kaggle/Corona_NLP_test.csv\",encoding='latin1')"
      ],
      "execution_count": null,
      "outputs": []
    },
    {
      "cell_type": "code",
      "metadata": {
        "id": "I3gEF7OP1mvG"
      },
      "source": [
        "# train data와 test data 를 합쳐서 재분류 실시 (무작위, 확률추출하기 위함)\n",
        "df = train.append(test, ignore_index=True)"
      ],
      "execution_count": null,
      "outputs": []
    },
    {
      "cell_type": "code",
      "metadata": {
        "id": "NTy2qfz06hAj",
        "colab": {
          "base_uri": "https://localhost:8080/",
          "height": 206
        },
        "outputId": "7438a487-eb9a-4297-98e1-edd57bfc4802"
      },
      "source": [
        "df.head()"
      ],
      "execution_count": null,
      "outputs": [
        {
          "output_type": "execute_result",
          "data": {
            "text/html": [
              "<div>\n",
              "<style scoped>\n",
              "    .dataframe tbody tr th:only-of-type {\n",
              "        vertical-align: middle;\n",
              "    }\n",
              "\n",
              "    .dataframe tbody tr th {\n",
              "        vertical-align: top;\n",
              "    }\n",
              "\n",
              "    .dataframe thead th {\n",
              "        text-align: right;\n",
              "    }\n",
              "</style>\n",
              "<table border=\"1\" class=\"dataframe\">\n",
              "  <thead>\n",
              "    <tr style=\"text-align: right;\">\n",
              "      <th></th>\n",
              "      <th>UserName</th>\n",
              "      <th>ScreenName</th>\n",
              "      <th>Location</th>\n",
              "      <th>TweetAt</th>\n",
              "      <th>OriginalTweet</th>\n",
              "      <th>Sentiment</th>\n",
              "    </tr>\n",
              "  </thead>\n",
              "  <tbody>\n",
              "    <tr>\n",
              "      <th>0</th>\n",
              "      <td>3799</td>\n",
              "      <td>48751</td>\n",
              "      <td>London</td>\n",
              "      <td>16-03-2020</td>\n",
              "      <td>@MeNyrbie @Phil_Gahan @Chrisitv https://t.co/i...</td>\n",
              "      <td>Neutral</td>\n",
              "    </tr>\n",
              "    <tr>\n",
              "      <th>1</th>\n",
              "      <td>3800</td>\n",
              "      <td>48752</td>\n",
              "      <td>UK</td>\n",
              "      <td>16-03-2020</td>\n",
              "      <td>advice Talk to your neighbours family to excha...</td>\n",
              "      <td>Positive</td>\n",
              "    </tr>\n",
              "    <tr>\n",
              "      <th>2</th>\n",
              "      <td>3801</td>\n",
              "      <td>48753</td>\n",
              "      <td>Vagabonds</td>\n",
              "      <td>16-03-2020</td>\n",
              "      <td>Coronavirus Australia: Woolworths to give elde...</td>\n",
              "      <td>Positive</td>\n",
              "    </tr>\n",
              "    <tr>\n",
              "      <th>3</th>\n",
              "      <td>3802</td>\n",
              "      <td>48754</td>\n",
              "      <td>NaN</td>\n",
              "      <td>16-03-2020</td>\n",
              "      <td>My food stock is not the only one which is emp...</td>\n",
              "      <td>Positive</td>\n",
              "    </tr>\n",
              "    <tr>\n",
              "      <th>4</th>\n",
              "      <td>3803</td>\n",
              "      <td>48755</td>\n",
              "      <td>NaN</td>\n",
              "      <td>16-03-2020</td>\n",
              "      <td>Me, ready to go at supermarket during the #COV...</td>\n",
              "      <td>Extremely Negative</td>\n",
              "    </tr>\n",
              "  </tbody>\n",
              "</table>\n",
              "</div>"
            ],
            "text/plain": [
              "   UserName  ...           Sentiment\n",
              "0      3799  ...             Neutral\n",
              "1      3800  ...            Positive\n",
              "2      3801  ...            Positive\n",
              "3      3802  ...            Positive\n",
              "4      3803  ...  Extremely Negative\n",
              "\n",
              "[5 rows x 6 columns]"
            ]
          },
          "metadata": {},
          "execution_count": 79
        }
      ]
    },
    {
      "cell_type": "code",
      "metadata": {
        "colab": {
          "base_uri": "https://localhost:8080/"
        },
        "id": "bUELwD8415kS",
        "outputId": "1e0161f2-f89c-4d3b-b2e9-3917eba480fe"
      },
      "source": [
        "# null 값 확인\n",
        "df.isnull().sum()  "
      ],
      "execution_count": null,
      "outputs": [
        {
          "output_type": "execute_result",
          "data": {
            "text/plain": [
              "UserName            0\n",
              "ScreenName          0\n",
              "Location         9424\n",
              "TweetAt             0\n",
              "OriginalTweet       0\n",
              "Sentiment           0\n",
              "dtype: int64"
            ]
          },
          "metadata": {},
          "execution_count": 80
        }
      ]
    },
    {
      "cell_type": "code",
      "metadata": {
        "colab": {
          "base_uri": "https://localhost:8080/"
        },
        "id": "i2PbYF_n15oZ",
        "outputId": "0a65e977-9a30-4b89-fc0c-1466b645cf1b"
      },
      "source": [
        "df.Sentiment.value_counts()"
      ],
      "execution_count": null,
      "outputs": [
        {
          "output_type": "execute_result",
          "data": {
            "text/plain": [
              "Positive              12369\n",
              "Negative              10958\n",
              "Neutral                8332\n",
              "Extremely Positive     7223\n",
              "Extremely Negative     6073\n",
              "Name: Sentiment, dtype: int64"
            ]
          },
          "metadata": {},
          "execution_count": 81
        }
      ]
    },
    {
      "cell_type": "code",
      "metadata": {
        "colab": {
          "base_uri": "https://localhost:8080/"
        },
        "id": "MoWxgTku15sQ",
        "outputId": "58b8046f-715e-4ed1-8055-96b391a27df4"
      },
      "source": [
        "# 전체 데이터구조 확인\n",
        "df.info()"
      ],
      "execution_count": null,
      "outputs": [
        {
          "output_type": "stream",
          "name": "stdout",
          "text": [
            "<class 'pandas.core.frame.DataFrame'>\n",
            "RangeIndex: 44955 entries, 0 to 44954\n",
            "Data columns (total 6 columns):\n",
            " #   Column         Non-Null Count  Dtype \n",
            "---  ------         --------------  ----- \n",
            " 0   UserName       44955 non-null  int64 \n",
            " 1   ScreenName     44955 non-null  int64 \n",
            " 2   Location       35531 non-null  object\n",
            " 3   TweetAt        44955 non-null  object\n",
            " 4   OriginalTweet  44955 non-null  object\n",
            " 5   Sentiment      44955 non-null  object\n",
            "dtypes: int64(2), object(4)\n",
            "memory usage: 2.1+ MB\n"
          ]
        }
      ]
    },
    {
      "cell_type": "code",
      "metadata": {
        "id": "DDlsC99L2crr"
      },
      "source": [
        "# 새로 생성된 df에 classes_def 적용\n",
        "df.Sentiment = df.Sentiment.apply(lambda x : classes_def(x))\n"
      ],
      "execution_count": null,
      "outputs": []
    },
    {
      "cell_type": "code",
      "metadata": {
        "colab": {
          "base_uri": "https://localhost:8080/",
          "height": 427
        },
        "id": "B32r1P6W2x1e",
        "outputId": "ecef9f69-a2fe-4205-da64-129f83a46613"
      },
      "source": [
        "# 감정분석 시각화\n",
        "print(df.Sentiment.value_counts())\n",
        "print('*' * 70)\n",
        "plt.figure(figsize = (9,5)) \n",
        "sns.countplot(x = 'Sentiment',data = df)\n",
        "plt.show()"
      ],
      "execution_count": null,
      "outputs": [
        {
          "output_type": "stream",
          "name": "stdout",
          "text": [
            "2    19592\n",
            "0    17031\n",
            "1     8332\n",
            "Name: Sentiment, dtype: int64\n",
            "**********************************************************************\n"
          ]
        },
        {
          "output_type": "display_data",
          "data": {
            "image/png": "[encoded data removed]",
            "text/plain": [
              "<Figure size 648x360 with 1 Axes>"
            ]
          },
          "metadata": {
            "needs_background": "light"
          }
        }
      ]
    },
    {
      "cell_type": "code",
      "metadata": {
        "id": "WvaXNL-52-HG"
      },
      "source": [
        "# Clean text\n",
        "\n",
        "def remove_url(text):\n",
        "    url = re.compile(r'https?://\\S+|www\\.\\S+')\n",
        "    return url.sub(r'',text)\n",
        "\n",
        "def remove_punct(text):\n",
        "    table = str.maketrans('', '', string.punctuation)\n",
        "    return text.translate(table)\n",
        "def remove_html(text):\n",
        "    html=re.compile(r'<.*?>')\n",
        "    return html.sub(r'',text)\n",
        "\n",
        "def remove_emoji(text):\n",
        "    emoji_pattern = re.compile(\"[\"\n",
        "                           u\"\\U0001F600-\\U0001F64F\"  # emoticons\n",
        "                           u\"\\U0001F300-\\U0001F5FF\"  # symbols & pictographs\n",
        "                           u\"\\U0001F680-\\U0001F6FF\"  # transport & map symbols\n",
        "                           u\"\\U0001F1E0-\\U0001F1FF\"  # flags (iOS)\n",
        "                           u\"\\U00002702-\\U000027B0\"\n",
        "                           u\"\\U000024C2-\\U0001F251\"\n",
        "                           \"]+\", flags=re.UNICODE)\n",
        "    return emoji_pattern.sub(r'', text)\n",
        "\n",
        "def decontraction(text):\n",
        "    text = re.sub(r\"won\\'t\", \" will not\", text)\n",
        "    text = re.sub(r\"won\\'t've\", \" will not have\", text)\n",
        "    text = re.sub(r\"can\\'t\", \" can not\", text)\n",
        "    text = re.sub(r\"don\\'t\", \" do not\", text)\n",
        "    \n",
        "    text = re.sub(r\"can\\'t've\", \" can not have\", text)\n",
        "    text = re.sub(r\"ma\\'am\", \" madam\", text)\n",
        "    text = re.sub(r\"let\\'s\", \" let us\", text)\n",
        "    text = re.sub(r\"ain\\'t\", \" am not\", text)\n",
        "    text = re.sub(r\"shan\\'t\", \" shall not\", text)\n",
        "    text = re.sub(r\"sha\\n't\", \" shall not\", text)\n",
        "    text = re.sub(r\"o\\'clock\", \" of the clock\", text)\n",
        "    text = re.sub(r\"y\\'all\", \" you all\", text)\n",
        "    \n",
        "    text = re.sub(r\"n\\'t\", \" not\", text)\n",
        "    text = re.sub(r\"n\\'t've\", \" not have\", text)\n",
        "    text = re.sub(r\"\\'re\", \" are\", text)\n",
        "    text = re.sub(r\"\\'s\", \" is\", text)\n",
        "    text = re.sub(r\"\\'d\", \" would\", text)\n",
        "    text = re.sub(r\"\\'d've\", \" would have\", text)\n",
        "    text = re.sub(r\"\\'ll\", \" will\", text)\n",
        "    text = re.sub(r\"\\'ll've\", \" will have\", text)\n",
        "    text = re.sub(r\"\\'t\", \" not\", text)\n",
        "    text = re.sub(r\"\\'ve\", \" have\", text)\n",
        "    text = re.sub(r\"\\'m\", \" am\", text)\n",
        "    text = re.sub(r\"\\'re\", \" are\", text)\n",
        "    return text\n",
        "\n",
        "def seperate_alphanumeric(text):\n",
        "    words = text\n",
        "    words = re.findall(r\"[^\\W\\d_]+|\\d+\", words)\n",
        "    return \" \".join(words)\n",
        "\n",
        "def cont_rep_char(text):\n",
        "    tchr = text.group(0) \n",
        "    \n",
        "    if len(tchr) > 1:\n",
        "        return tchr[0:2] \n",
        "\n",
        "def unique_char(rep, text):\n",
        "    substitute = re.sub(r'(\\w)\\1+', rep, text)\n",
        "    return substitute\n",
        "\n",
        "def char(text):\n",
        "    substitute = re.sub(r'[^a-zA-Z]',' ',text)\n",
        "    return substitute\n",
        "\n",
        "# Apply functions on OriginalTweet\n",
        "df['OriginalTweet'] = df['OriginalTweet'].apply(lambda x : remove_url(x))\n",
        "df['OriginalTweet'] = df['OriginalTweet'].apply(lambda x : remove_emoji(x))\n",
        "df['OriginalTweet'] = df['OriginalTweet'].apply(lambda x : decontraction(x))\n",
        "df['OriginalTweet'] = df['OriginalTweet'].apply(lambda x : seperate_alphanumeric(x))\n",
        "df['OriginalTweet'] = df['OriginalTweet'].apply(lambda x : unique_char(cont_rep_char,x))\n",
        "df['OriginalTweet'] = df['OriginalTweet'].apply(lambda x : char(x))\n",
        "df['OriginalTweet'] = df['OriginalTweet'].apply(lambda x : x.lower())"
      ],
      "execution_count": null,
      "outputs": []
    },
    {
      "cell_type": "markdown",
      "metadata": {
        "id": "7RLBuXTw6Sd-"
      },
      "source": [
        "- \\S : 공백 아님\n",
        "- [^ ] : 반대 \n",
        "- \\w: 숫자나 문자\n",
        "- \\s : 공백\n",
        "- \\d : 숫자\n",
        "- + : 최소 한 번 이상 반복\n",
        "- ? : 앞에 있는 문자가 없거나 하나 있을 때\n",
        "- | : 여러 개의 표현식 중 하나 (or)\n",
        "\n",
        "\n",
        "- http:// 또는 https://로 시작하는 공백없는 문자 혹은 www.로 시작하는 공백 없는 문자 제거\n",
        "- 최소 한 번 이상 반복되는 숫자 제거\n",
        "- 문자나 공백이나 숫자가 아니면 제거(구두점 제거)\n",
        "- @로 시작하는 문자나 숫자 제거(멘션 제거)\n",
        "- #로 시작하는 문자나 숫자 제거(해시태그 제거)\n",
        "- 공백이 반복되면 제거"
      ]
    },
    {
      "cell_type": "code",
      "metadata": {
        "id": "94EJIuuE3EC3"
      },
      "source": [
        "# Split sentiment groups \n",
        "Positive = df[df['Sentiment'] == 2].OriginalTweet\n",
        "Neutral  = df[df['Sentiment'] == 1].OriginalTweet\n",
        "Negative = df[df['Sentiment'] == 0].OriginalTweet"
      ],
      "execution_count": null,
      "outputs": []
    },
    {
      "cell_type": "code",
      "metadata": {
        "colab": {
          "base_uri": "https://localhost:8080/"
        },
        "id": "k3wr90c23Hml",
        "outputId": "09139c2a-a216-4c66-d0d4-827fba2d6662"
      },
      "source": [
        "!pip install wordcloud"
      ],
      "execution_count": null,
      "outputs": [
        {
          "output_type": "stream",
          "name": "stdout",
          "text": [
            "Requirement already satisfied: wordcloud in /usr/local/lib/python3.7/dist-packages (1.5.0)\n",
            "Requirement already satisfied: numpy>=1.6.1 in /usr/local/lib/python3.7/dist-packages (from wordcloud) (1.19.5)\n",
            "Requirement already satisfied: pillow in /usr/local/lib/python3.7/dist-packages (from wordcloud) (7.1.2)\n"
          ]
        }
      ]
    },
    {
      "cell_type": "code",
      "metadata": {
        "colab": {
          "base_uri": "https://localhost:8080/"
        },
        "id": "ECVAXkxI3YV5",
        "outputId": "7578e74c-d7f0-497e-8a20-07a05cc3a5ca"
      },
      "source": [
        "!pip install matplotlib-venn"
      ],
      "execution_count": null,
      "outputs": [
        {
          "output_type": "stream",
          "name": "stdout",
          "text": [
            "Requirement already satisfied: matplotlib-venn in /usr/local/lib/python3.7/dist-packages (0.11.6)\n",
            "Requirement already satisfied: numpy in /usr/local/lib/python3.7/dist-packages (from matplotlib-venn) (1.19.5)\n",
            "Requirement already satisfied: matplotlib in /usr/local/lib/python3.7/dist-packages (from matplotlib-venn) (3.2.2)\n",
            "Requirement already satisfied: scipy in /usr/local/lib/python3.7/dist-packages (from matplotlib-venn) (1.4.1)\n",
            "Requirement already satisfied: python-dateutil>=2.1 in /usr/local/lib/python3.7/dist-packages (from matplotlib->matplotlib-venn) (2.8.2)\n",
            "Requirement already satisfied: kiwisolver>=1.0.1 in /usr/local/lib/python3.7/dist-packages (from matplotlib->matplotlib-venn) (1.3.2)\n",
            "Requirement already satisfied: pyparsing!=2.0.4,!=2.1.2,!=2.1.6,>=2.0.1 in /usr/local/lib/python3.7/dist-packages (from matplotlib->matplotlib-venn) (3.0.6)\n",
            "Requirement already satisfied: cycler>=0.10 in /usr/local/lib/python3.7/dist-packages (from matplotlib->matplotlib-venn) (0.11.0)\n",
            "Requirement already satisfied: six>=1.5 in /usr/local/lib/python3.7/dist-packages (from python-dateutil>=2.1->matplotlib->matplotlib-venn) (1.15.0)\n"
          ]
        }
      ]
    },
    {
      "cell_type": "code",
      "metadata": {
        "id": "7DDnRkbH3NUr"
      },
      "source": [
        "from wordcloud import WordCloud"
      ],
      "execution_count": null,
      "outputs": []
    },
    {
      "cell_type": "code",
      "metadata": {
        "id": "-WHfVe-K6unx"
      },
      "source": [
        "X = df['OriginalTweet']\n",
        "y = df['Sentiment']\n",
        "\n",
        "# Split data into train , test\n",
        "X_train , X_test , y_train , y_test = train_test_split(X,y,test_size=0.2,random_state=0)"
      ],
      "execution_count": null,
      "outputs": []
    },
    {
      "cell_type": "code",
      "metadata": {
        "id": "A2GyB4JjzLDm",
        "colab": {
          "base_uri": "https://localhost:8080/"
        },
        "outputId": "61fd3132-1874-4f61-8405-94aef45c3d4c"
      },
      "source": [
        "print('Shape of X_train : ' , X_train.shape)\n",
        "print('Shape of y_train : ', y_train.shape)\n",
        "print('Shape of X_test : ', X_test.shape)\n",
        "print('Shape of y_test : ',y_test.shape)"
      ],
      "execution_count": null,
      "outputs": [
        {
          "output_type": "stream",
          "name": "stdout",
          "text": [
            "Shape of X_train :  (35964,)\n",
            "Shape of y_train :  (35964,)\n",
            "Shape of X_test :  (8991,)\n",
            "Shape of y_test :  (8991,)\n"
          ]
        }
      ]
    },
    {
      "cell_type": "code",
      "metadata": {
        "id": "PjSQgQxL8GyH",
        "colab": {
          "base_uri": "https://localhost:8080/"
        },
        "outputId": "c8358352-b4d9-431c-bfb1-3e1bce05efeb"
      },
      "source": [
        "X"
      ],
      "execution_count": null,
      "outputs": [
        {
          "output_type": "execute_result",
          "data": {
            "text/plain": [
              "0                     menyrbie phil gahan chrisitv and and\n",
              "1        advice talk to your neighbours family to excha...\n",
              "2        coronavirus australia woolworths to give elder...\n",
              "3        my food stock is not the only one which is emp...\n",
              "4        me ready to go at supermarket during the covid...\n",
              "                               ...                        \n",
              "44950    meanwhile in a supermarket in israel people da...\n",
              "44951    did you panic buy a lot of non perishable item...\n",
              "44952    asst prof of economics cconces was on nbcphila...\n",
              "44953    gov need to do somethings instead of biar je r...\n",
              "44954    i and forestandpaper members are committed to ...\n",
              "Name: OriginalTweet, Length: 44955, dtype: object"
            ]
          },
          "metadata": {},
          "execution_count": 112
        }
      ]
    },
    {
      "cell_type": "code",
      "metadata": {
        "id": "oeCCazXy8IbV",
        "colab": {
          "base_uri": "https://localhost:8080/"
        },
        "outputId": "fe36933b-fc23-4fb4-904b-23dde6a6e8d3"
      },
      "source": [
        "y"
      ],
      "execution_count": null,
      "outputs": [
        {
          "output_type": "execute_result",
          "data": {
            "text/plain": [
              "0        1\n",
              "1        2\n",
              "2        2\n",
              "3        2\n",
              "4        0\n",
              "        ..\n",
              "44950    2\n",
              "44951    0\n",
              "44952    1\n",
              "44953    0\n",
              "44954    2\n",
              "Name: Sentiment, Length: 44955, dtype: object"
            ]
          },
          "metadata": {},
          "execution_count": 113
        }
      ]
    },
    {
      "cell_type": "code",
      "metadata": {
        "id": "zNPTPRam9GaN"
      },
      "source": [
        "# Split sentiment groups \n",
        "Positive = df[df['Sentiment'] == 2].OriginalTweet\n",
        "Neutral  = df[df['Sentiment'] == 1].OriginalTweet\n",
        "Negative = df[df['Sentiment'] == 0].OriginalTweet\n"
      ],
      "execution_count": null,
      "outputs": []
    },
    {
      "cell_type": "code",
      "metadata": {
        "id": "pDEtoO196PVa"
      },
      "source": [
        "# Convert y to categorical (범주형 데이터로 변경)\n",
        "y_train = to_categorical(y_train, 3)\n",
        "y_test  = to_categorical(y_test, 3)"
      ],
      "execution_count": null,
      "outputs": []
    },
    {
      "cell_type": "code",
      "metadata": {
        "id": "wHsFOaqu7rBK"
      },
      "source": [
        "# 토큰화(Tokenize Texts) \n",
        "max_features = 20000\n",
        "tokenizer = Tokenizer(num_words=max_features)\n",
        "tokenizer.fit_on_texts(list(X_train))\n",
        "list_tokenized_train = tokenizer.texts_to_sequences(X_train)\n",
        "list_tokenized_test = tokenizer.texts_to_sequences(X_test)"
      ],
      "execution_count": null,
      "outputs": []
    },
    {
      "cell_type": "code",
      "metadata": {
        "id": "s8QlNYeE-kfj"
      },
      "source": [
        "# 토큰화된 텍스트를 패딩 사이즈 맞추어 주기 convert tokenized texts into same padding size\n",
        "maxlen = 200\n",
        "embed_size = 128 \n",
        "X_train_final = pad_sequences(list_tokenized_train, maxlen=maxlen)\n",
        "X_test_final = pad_sequences(list_tokenized_test, maxlen=maxlen)"
      ],
      "execution_count": null,
      "outputs": []
    },
    {
      "cell_type": "code",
      "metadata": {
        "id": "FSZf26X6xJXa"
      },
      "source": [
        "# 모델링 (LSTM)\n",
        "inp = Input(shape=(maxlen, )) \n",
        "x   =  Embedding(max_features, embed_size)(inp)\n",
        "x   =  LSTM(60, return_sequences=True,name='lstm_layer')(x)\n",
        "x   =  GlobalMaxPool1D()(x)    # MaxPoolking1D  사용 \n",
        "x   =  Dense(64, activation=\"relu\")(x)\n",
        "x   =  Dropout(0.2)(x)\n",
        "x   =  Dense(3, activation=\"softmax\")(x)   # 다중 분류 위해 softmax 사용 "
      ],
      "execution_count": null,
      "outputs": []
    },
    {
      "cell_type": "code",
      "metadata": {
        "id": "VJOY9X-wxf5o"
      },
      "source": [
        "model = Model(inputs=inp, outputs=x)\n",
        "model.compile(loss='categorical_crossentropy',  # one-hot encoding 되었기 때문, categorical_crossentropy 사용\n",
        "              optimizer='adam',\n",
        "              metrics=['accuracy'])"
      ],
      "execution_count": null,
      "outputs": []
    },
    {
      "cell_type": "code",
      "metadata": {
        "colab": {
          "base_uri": "https://localhost:8080/"
        },
        "id": "Dvi_FO0gxhjL",
        "outputId": "0bfe3eea-a620-4c43-d07f-3a1504986ee7"
      },
      "source": [
        "# 모델 최적화 실행\n",
        "model.fit(X_train_final,y_train, epochs=2,validation_data=(X_test_final,y_test))"
      ],
      "execution_count": null,
      "outputs": [
        {
          "output_type": "stream",
          "name": "stdout",
          "text": [
            "Epoch 1/2\n",
            "1124/1124 [==============================] - 56s 48ms/step - loss: 0.6038 - accuracy: 0.7513 - val_loss: 0.4033 - val_accuracy: 0.8626\n",
            "Epoch 2/2\n",
            "1124/1124 [==============================] - 53s 47ms/step - loss: 0.3048 - accuracy: 0.8998 - val_loss: 0.3669 - val_accuracy: 0.8725\n"
          ]
        },
        {
          "output_type": "execute_result",
          "data": {
            "text/plain": [
              "<keras.callbacks.History at 0x7f18400fae10>"
            ]
          },
          "metadata": {},
          "execution_count": 120
        }
      ]
    },
    {
      "cell_type": "code",
      "metadata": {
        "colab": {
          "base_uri": "https://localhost:8080/"
        },
        "id": "pkoYCHIXxtuZ",
        "outputId": "02c52343-cc72-486b-ff8e-eb77d07459cc"
      },
      "source": [
        "# 모델 평가(test data 활용) \n",
        "model.evaluate(X_test_final,y_test)"
      ],
      "execution_count": null,
      "outputs": [
        {
          "output_type": "stream",
          "name": "stdout",
          "text": [
            "281/281 [==============================] - 5s 17ms/step - loss: 0.3669 - accuracy: 0.8725\n"
          ]
        },
        {
          "output_type": "execute_result",
          "data": {
            "text/plain": [
              "[0.3668677508831024, 0.872539222240448]"
            ]
          },
          "metadata": {},
          "execution_count": 121
        }
      ]
    },
    {
      "cell_type": "code",
      "metadata": {
        "id": "b2t3LRvux1hh"
      },
      "source": [
        "# 모델 예측 확인\n",
        "lstm_pred = np.round(model.predict(X_test_final))"
      ],
      "execution_count": null,
      "outputs": []
    },
    {
      "cell_type": "code",
      "metadata": {
        "colab": {
          "base_uri": "https://localhost:8080/"
        },
        "id": "m_7f3Zyxx84U",
        "outputId": "ef27858c-e46e-4530-f2ee-584b58817912"
      },
      "source": [
        "# confusion matrix로 분류 결과 확인 \n",
        "# Precision , Recall , F1-score\n",
        "cr = classification_report(y_test,lstm_pred)\n",
        "print(cr)"
      ],
      "execution_count": null,
      "outputs": [
        {
          "output_type": "stream",
          "name": "stdout",
          "text": [
            "              precision    recall  f1-score   support\n",
            "\n",
            "           0       0.87      0.87      0.87      3466\n",
            "           1       0.91      0.78      0.84      1683\n",
            "           2       0.89      0.88      0.88      3842\n",
            "\n",
            "   micro avg       0.88      0.86      0.87      8991\n",
            "   macro avg       0.89      0.85      0.87      8991\n",
            "weighted avg       0.89      0.86      0.87      8991\n",
            " samples avg       0.86      0.86      0.86      8991\n",
            "\n"
          ]
        }
      ]
    },
    {
      "cell_type": "markdown",
      "metadata": {
        "id": "qJGxymLE5sbr"
      },
      "source": [
        "최종 결과 해석 \n",
        "\n",
        "1. 모델 성능 개선을 위해 LSTM 적용함\n",
        "2. 분석 결과, 정확도(acc) 는 87% 으로 나타남\n",
        "3. 혼동행렬으로 분류 분석 결과, f-1 score는 87% 으로 성능 개선된 것으로 확인됨\n",
        "4. 향후 계획은 bert를 활용, 추가 성능 개선을 모색하고자 함   \n",
        "\n"
      ]
    },
    {
      "cell_type": "code",
      "metadata": {
        "id": "DYHlzOssyB9Z"
      },
      "source": [
        ""
      ],
      "execution_count": null,
      "outputs": []
    }
  ]
}